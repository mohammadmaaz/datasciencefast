{
 "cells": [
  {
   "cell_type": "code",
   "execution_count": 26,
   "metadata": {
    "collapsed": false
   },
   "outputs": [
    {
     "name": "stdout",
     "output_type": "stream",
     "text": [
      "This data describes the world copper market from 1951 through 1975.  In an\n",
      "example, in Gill, the outcome variable (of a 2 stage estimation) is the world\n",
      "consumption of copper for the 25 years.  The explanatory variables are the\n",
      "world consumption of copper in 1000 metric tons, the constant dollar adjusted\n",
      "price of copper, the price of a substitute, aluminum, an index of real per\n",
      "capita income base 1970, an annual measure of manufacturer inventory change,\n",
      "and a time trend.\n",
      "\n"
     ]
    }
   ],
   "source": [
    "from sklearn.cross_validation import KFold\n",
    "from sklearn.linear_model import LinearRegression, Lasso, Ridge, ElasticNet, Lars\n",
    "from sklearn.metrics import mean_squared_error, r2_score\n",
    "import math\n",
    "import numpy as np\n",
    "import pylab as pl\n",
    "import statsmodels.api as sm\n",
    "copper = sm.datasets.copper\n",
    "\n",
    "print(copper.DESCRLONG)"
   ]
  },
  {
   "cell_type": "code",
   "execution_count": 27,
   "metadata": {
    "collapsed": false
   },
   "outputs": [],
   "source": [
    "dataset_copper = copper.load_pandas()"
   ]
  },
  {
   "cell_type": "code",
   "execution_count": 28,
   "metadata": {
    "collapsed": false
   },
   "outputs": [
    {
     "data": {
      "text/html": [
       "<div>\n",
       "<table border=\"1\" class=\"dataframe\">\n",
       "  <thead>\n",
       "    <tr style=\"text-align: right;\">\n",
       "      <th></th>\n",
       "      <th>WORLDCONSUMPTION</th>\n",
       "      <th>COPPERPRICE</th>\n",
       "      <th>INCOMEINDEX</th>\n",
       "      <th>ALUMPRICE</th>\n",
       "      <th>INVENTORYINDEX</th>\n",
       "      <th>TIME</th>\n",
       "    </tr>\n",
       "  </thead>\n",
       "  <tbody>\n",
       "    <tr>\n",
       "      <th>0</th>\n",
       "      <td>3173.0</td>\n",
       "      <td>26.56</td>\n",
       "      <td>0.70</td>\n",
       "      <td>19.76</td>\n",
       "      <td>0.98</td>\n",
       "      <td>1.0</td>\n",
       "    </tr>\n",
       "    <tr>\n",
       "      <th>1</th>\n",
       "      <td>3281.1</td>\n",
       "      <td>27.31</td>\n",
       "      <td>0.71</td>\n",
       "      <td>20.78</td>\n",
       "      <td>1.04</td>\n",
       "      <td>2.0</td>\n",
       "    </tr>\n",
       "  </tbody>\n",
       "</table>\n",
       "</div>"
      ],
      "text/plain": [
       "   WORLDCONSUMPTION  COPPERPRICE  INCOMEINDEX  ALUMPRICE  INVENTORYINDEX  TIME\n",
       "0            3173.0        26.56         0.70      19.76            0.98   1.0\n",
       "1            3281.1        27.31         0.71      20.78            1.04   2.0"
      ]
     },
     "execution_count": 28,
     "metadata": {},
     "output_type": "execute_result"
    }
   ],
   "source": [
    "df_copper = dataset_copper.data\n",
    "df_copper.head(2)"
   ]
  },
  {
   "cell_type": "code",
   "execution_count": 29,
   "metadata": {
    "collapsed": false
   },
   "outputs": [],
   "source": [
    "x = np.array(df_copper['ALUMPRICE'])\n",
    "y = np.array(df_copper['COPPERPRICE'])\n",
    "x = x.reshape(-1,1)"
   ]
  },
  {
   "cell_type": "code",
   "execution_count": 30,
   "metadata": {
    "collapsed": false
   },
   "outputs": [
    {
     "name": "stdout",
     "output_type": "stream",
     "text": [
      "Method: linear regression\n",
      "RMSE on training: 6.7686\n",
      "RMSE on 10-fold CV: 8.6587\n",
      "\n",
      "\n",
      "Method: lasso\n",
      "RMSE on training: 6.7714\n",
      "RMSE on 10-fold CV: 8.4255\n",
      "\n",
      "\n",
      "Method: ridge\n",
      "RMSE on training: 6.7686\n",
      "RMSE on 10-fold CV: 8.6519\n",
      "\n",
      "\n",
      "Method: elastic-net\n",
      "RMSE on training: 6.7696\n",
      "RMSE on 10-fold CV: 8.4759\n",
      "\n",
      "\n",
      "Method: lars\n",
      "RMSE on training: 6.7686\n",
      "RMSE on 10-fold CV: 8.6587\n",
      "\n",
      "\n"
     ]
    }
   ],
   "source": [
    "a = 0.5\n",
    "for name,met in [\n",
    "        ('linear regression', LinearRegression()),\n",
    "        ('lasso', Lasso(fit_intercept=True, alpha=a)),\n",
    "        ('ridge', Ridge(fit_intercept=True, alpha=a)),\n",
    "        ('elastic-net', ElasticNet(fit_intercept=True, alpha=a)),\n",
    "        ('lars', Lars(fit_intercept=True, n_nonzero_coefs=1)),\n",
    "        ]:\n",
    "    met.fit(x,y)\n",
    "    # p = np.array([met.predict(xi) for xi in x])\n",
    "    p = met.predict(x)\n",
    "    e = p-y\n",
    "    total_error = np.dot(e,e)\n",
    "    rmse_train = np.sqrt(total_error/len(p))\n",
    "    std_dev = np.std(x)\n",
    "    \n",
    "\n",
    "    kf = KFold(len(x), n_folds=10)\n",
    "    err = 0\n",
    "    for train,test in kf:\n",
    "        met.fit(x[train],y[train])\n",
    "        #std_dev=math.sqrt(r2_score(x[train],y[train]))\n",
    "        p = met.predict(x[test])\n",
    "        e = p-y[test]\n",
    "        err += np.dot(e,e)\n",
    "\n",
    "    rmse_10cv = np.sqrt(err/len(x))\n",
    "    print('Method: %s' %name)\n",
    "    print('RMSE on training: %.4f' %rmse_train)\n",
    "    print('RMSE on 10-fold CV: %.4f' %rmse_10cv)\n",
    "    print (\"\\n\")"
   ]
  },
  {
   "cell_type": "code",
   "execution_count": null,
   "metadata": {
    "collapsed": true
   },
   "outputs": [],
   "source": []
  }
 ],
 "metadata": {
  "anaconda-cloud": {},
  "kernelspec": {
   "display_name": "Python [conda root]",
   "language": "python",
   "name": "conda-root-py"
  },
  "language_info": {
   "codemirror_mode": {
    "name": "ipython",
    "version": 3
   },
   "file_extension": ".py",
   "mimetype": "text/x-python",
   "name": "python",
   "nbconvert_exporter": "python",
   "pygments_lexer": "ipython3",
   "version": "3.5.2"
  }
 },
 "nbformat": 4,
 "nbformat_minor": 1
}
