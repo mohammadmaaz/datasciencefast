{
 "cells": [
  {
   "cell_type": "code",
   "execution_count": 31,
   "metadata": {
    "collapsed": false
   },
   "outputs": [
    {
     "name": "stdout",
     "output_type": "stream",
     "text": [
      "More information on this data can be found on the\n",
      "homepage for Greene's `Econometric Analysis`. See source.\n",
      "\n"
     ]
    }
   ],
   "source": [
    "from sklearn.cross_validation import KFold\n",
    "from sklearn.linear_model import LinearRegression, Lasso, Ridge, ElasticNet, Lars\n",
    "from sklearn.metrics import mean_squared_error, r2_score\n",
    "import math\n",
    "import numpy as np\n",
    "import pylab as pl\n",
    "import statsmodels.api as sm\n",
    "ccard = sm.datasets.ccard\n",
    "\n",
    "print(ccard.DESCRLONG)"
   ]
  },
  {
   "cell_type": "code",
   "execution_count": 32,
   "metadata": {
    "collapsed": false
   },
   "outputs": [],
   "source": [
    "dataset_ccard = ccard.load_pandas()"
   ]
  },
  {
   "cell_type": "code",
   "execution_count": 33,
   "metadata": {
    "collapsed": false
   },
   "outputs": [
    {
     "data": {
      "text/html": [
       "<div>\n",
       "<table border=\"1\" class=\"dataframe\">\n",
       "  <thead>\n",
       "    <tr style=\"text-align: right;\">\n",
       "      <th></th>\n",
       "      <th>AVGEXP</th>\n",
       "      <th>AGE</th>\n",
       "      <th>INCOME</th>\n",
       "      <th>INCOMESQ</th>\n",
       "      <th>OWNRENT</th>\n",
       "    </tr>\n",
       "  </thead>\n",
       "  <tbody>\n",
       "    <tr>\n",
       "      <th>0</th>\n",
       "      <td>124.98</td>\n",
       "      <td>38.0</td>\n",
       "      <td>4.52</td>\n",
       "      <td>20.4304</td>\n",
       "      <td>1.0</td>\n",
       "    </tr>\n",
       "    <tr>\n",
       "      <th>1</th>\n",
       "      <td>9.85</td>\n",
       "      <td>33.0</td>\n",
       "      <td>2.42</td>\n",
       "      <td>5.8564</td>\n",
       "      <td>0.0</td>\n",
       "    </tr>\n",
       "    <tr>\n",
       "      <th>2</th>\n",
       "      <td>15.00</td>\n",
       "      <td>34.0</td>\n",
       "      <td>4.50</td>\n",
       "      <td>20.2500</td>\n",
       "      <td>1.0</td>\n",
       "    </tr>\n",
       "    <tr>\n",
       "      <th>3</th>\n",
       "      <td>137.87</td>\n",
       "      <td>31.0</td>\n",
       "      <td>2.54</td>\n",
       "      <td>6.4516</td>\n",
       "      <td>0.0</td>\n",
       "    </tr>\n",
       "    <tr>\n",
       "      <th>4</th>\n",
       "      <td>546.50</td>\n",
       "      <td>32.0</td>\n",
       "      <td>9.79</td>\n",
       "      <td>95.8441</td>\n",
       "      <td>1.0</td>\n",
       "    </tr>\n",
       "  </tbody>\n",
       "</table>\n",
       "</div>"
      ],
      "text/plain": [
       "   AVGEXP   AGE  INCOME  INCOMESQ  OWNRENT\n",
       "0  124.98  38.0    4.52   20.4304      1.0\n",
       "1    9.85  33.0    2.42    5.8564      0.0\n",
       "2   15.00  34.0    4.50   20.2500      1.0\n",
       "3  137.87  31.0    2.54    6.4516      0.0\n",
       "4  546.50  32.0    9.79   95.8441      1.0"
      ]
     },
     "execution_count": 33,
     "metadata": {},
     "output_type": "execute_result"
    }
   ],
   "source": [
    "df_ccard = dataset_ccard.data\n",
    "df_ccard.head()"
   ]
  },
  {
   "cell_type": "code",
   "execution_count": 34,
   "metadata": {
    "collapsed": false
   },
   "outputs": [],
   "source": [
    "x = np.array(df_ccard['AGE'])\n",
    "y = np.array(df_ccard['INCOMESQ'])\n",
    "x = x.reshape(-1,1)"
   ]
  },
  {
   "cell_type": "code",
   "execution_count": 35,
   "metadata": {
    "collapsed": false
   },
   "outputs": [
    {
     "name": "stdout",
     "output_type": "stream",
     "text": [
      "Method: linear regression\n",
      "RMSE on training: 16.6212\n",
      "RMSE on 10-fold CV: 17.0115\n",
      "\n",
      "\n",
      "Method: lasso\n",
      "RMSE on training: 16.6216\n",
      "RMSE on 10-fold CV: 17.0093\n",
      "\n",
      "\n",
      "Method: ridge\n",
      "RMSE on training: 16.6212\n",
      "RMSE on 10-fold CV: 17.0114\n",
      "\n",
      "\n",
      "Method: elastic-net\n",
      "RMSE on training: 16.6215\n",
      "RMSE on 10-fold CV: 17.0075\n",
      "\n",
      "\n",
      "Method: lars\n",
      "RMSE on training: 16.6212\n",
      "RMSE on 10-fold CV: 17.0115\n",
      "\n",
      "\n"
     ]
    }
   ],
   "source": [
    "a = 0.8\n",
    "for name,met in [\n",
    "        ('linear regression', LinearRegression()),\n",
    "        ('lasso', Lasso(fit_intercept=True, alpha=a)),\n",
    "        ('ridge', Ridge(fit_intercept=True, alpha=a)),\n",
    "        ('elastic-net', ElasticNet(fit_intercept=True, alpha=a)),\n",
    "        ('lars', Lars(fit_intercept=True, n_nonzero_coefs=1)),\n",
    "        ]:\n",
    "    met.fit(x,y)\n",
    "    # p = np.array([met.predict(xi) for xi in x])\n",
    "    p = met.predict(x)\n",
    "    e = p-y\n",
    "    total_error = np.dot(e,e)\n",
    "    rmse_train = np.sqrt(total_error/len(p))\n",
    "    std_dev = np.std(x)\n",
    "    \n",
    "\n",
    "    kf = KFold(len(x), n_folds=10)\n",
    "    err = 0\n",
    "    for train,test in kf:\n",
    "        met.fit(x[train],y[train])\n",
    "        #std_dev=math.sqrt(r2_score(x[train],y[train]))\n",
    "        p = met.predict(x[test])\n",
    "        e = p-y[test]\n",
    "        err += np.dot(e,e)\n",
    "\n",
    "    rmse_10cv = np.sqrt(err/len(x))\n",
    "    print('Method: %s' %name)\n",
    "    print('RMSE on training: %.4f' %rmse_train)\n",
    "    print('RMSE on 10-fold CV: %.4f' %rmse_10cv)\n",
    "    print (\"\\n\")"
   ]
  },
  {
   "cell_type": "code",
   "execution_count": null,
   "metadata": {
    "collapsed": true
   },
   "outputs": [],
   "source": []
  }
 ],
 "metadata": {
  "anaconda-cloud": {},
  "kernelspec": {
   "display_name": "Python [conda root]",
   "language": "python",
   "name": "conda-root-py"
  },
  "language_info": {
   "codemirror_mode": {
    "name": "ipython",
    "version": 3
   },
   "file_extension": ".py",
   "mimetype": "text/x-python",
   "name": "python",
   "nbconvert_exporter": "python",
   "pygments_lexer": "ipython3",
   "version": "3.5.2"
  }
 },
 "nbformat": 4,
 "nbformat_minor": 1
}
